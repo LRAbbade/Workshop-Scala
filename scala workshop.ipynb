{
 "cells": [
  {
   "cell_type": "markdown",
   "metadata": {},
   "source": [
    "# Workshop Scala\n",
    "\n",
    "![Scala](https://hazelcast.org/wp-content/uploads/2016/04/scala-logo.jpg)\n",
    "<br>\n",
    "<br>\n",
    "Este Workshop foi feito utilizando o [jupyter notebook](http://jupyter.org/) com o [spylon kernel](https://github.com/Valassis-Digital-Media/spylon-kernel), que reúne o poder do [Scala](https://www.scala-lang.org/), [Apache Spark](https://spark.apache.org/) e [Python](https://www.python.org/) em um mesmo ambiente interativo de desenvolvimento e visualização.\n",
    "<br>\n",
    "<br>\n",
    "Para utilizá-lo, é necessário ter todas estas componentes instaladas, [este tutorial](https://intellipaat.com/tutorial/spark-tutorial/downloading-spark-and-getting-started/) explica muito claramente a instalação do Scala e Spark, o restante pode ser visto pelos sites das respectivas ferramentas.\n",
    "<br>"
   ]
  },
  {
   "cell_type": "markdown",
   "metadata": {},
   "source": [
    "---"
   ]
  },
  {
   "cell_type": "markdown",
   "metadata": {},
   "source": [
    "# String Interpolation"
   ]
  },
  {
   "cell_type": "markdown",
   "metadata": {},
   "source": [
    "Inserir pedaços de código no meio de uma string <br>\n",
    "Para colocar uma variável, basta usar `$` <br>\n",
    "Caso deseja-se executar uma expressão, colocar entre `{  }`"
   ]
  },
  {
   "cell_type": "code",
   "execution_count": 61,
   "metadata": {},
   "outputs": [
    {
     "name": "stdout",
     "output_type": "stream",
     "text": [
      "String interpolation: n1 = 2, n2 = 3\n"
     ]
    },
    {
     "data": {
      "text/plain": [
       "n1: Int = 2\n",
       "n2: Int = 3\n"
      ]
     },
     "execution_count": 61,
     "metadata": {},
     "output_type": "execute_result"
    }
   ],
   "source": [
    "val n1 = 2\n",
    "val n2 = 3\n",
    "\n",
    "println(s\"String interpolation: n1 = $n1, n2 = $n2\")"
   ]
  },
  {
   "cell_type": "code",
   "execution_count": 63,
   "metadata": {},
   "outputs": [
    {
     "name": "stdout",
     "output_type": "stream",
     "text": [
      "magic! 6\n"
     ]
    }
   ],
   "source": [
    "println(s\"magic! ${2 + 4}\")"
   ]
  },
  {
   "cell_type": "markdown",
   "metadata": {},
   "source": [
    "# POO"
   ]
  },
  {
   "cell_type": "markdown",
   "metadata": {},
   "source": [
    "### Construtor"
   ]
  },
  {
   "cell_type": "code",
   "execution_count": 53,
   "metadata": {},
   "outputs": [
    {
     "data": {
      "text/plain": [
       "defined class Vector2d\n"
      ]
     },
     "execution_count": 53,
     "metadata": {},
     "output_type": "execute_result"
    }
   ],
   "source": [
    "class Vector2d(var x: Int, var y: Int)"
   ]
  },
  {
   "cell_type": "code",
   "execution_count": 55,
   "metadata": {},
   "outputs": [
    {
     "name": "stdout",
     "output_type": "stream",
     "text": [
      "1\n",
      "2\n"
     ]
    },
    {
     "data": {
      "text/plain": [
       "v1: Vector2d = Vector2d@2f8b1a3b\n"
      ]
     },
     "execution_count": 55,
     "metadata": {},
     "output_type": "execute_result"
    }
   ],
   "source": [
    "var v1 = new Vector2d(1, 2)\n",
    "println(v1.x)\n",
    "println(v1.y)"
   ]
  },
  {
   "cell_type": "markdown",
   "metadata": {},
   "source": [
    "### Case Class"
   ]
  },
  {
   "cell_type": "markdown",
   "metadata": {},
   "source": [
    "Classe simples, só pra fornecer uma estrutura de dados rápida, já tem alguns métodos prontos, como `toString` <br>\n",
    "(imutável)"
   ]
  },
  {
   "cell_type": "code",
   "execution_count": 56,
   "metadata": {},
   "outputs": [
    {
     "data": {
      "text/plain": [
       "defined class Carro\n"
      ]
     },
     "execution_count": 56,
     "metadata": {},
     "output_type": "execute_result"
    }
   ],
   "source": [
    "case class Carro(marca: String, modelo: String)"
   ]
  },
  {
   "cell_type": "code",
   "execution_count": 57,
   "metadata": {},
   "outputs": [
    {
     "data": {
      "text/plain": [
       "uno: Carro = Carro(Fiat,Uno)\n",
       "res31: Carro = Carro(Fiat,Uno)\n"
      ]
     },
     "execution_count": 57,
     "metadata": {},
     "output_type": "execute_result"
    }
   ],
   "source": [
    "val uno = Carro(\"Fiat\", \"Uno\")\n",
    "uno"
   ]
  },
  {
   "cell_type": "markdown",
   "metadata": {},
   "source": [
    "### Default Parameters"
   ]
  },
  {
   "cell_type": "markdown",
   "metadata": {},
   "source": [
    "Valores <em>default</em> para parâmetros"
   ]
  },
  {
   "cell_type": "code",
   "execution_count": 70,
   "metadata": {},
   "outputs": [
    {
     "data": {
      "text/plain": [
       "defined class Ponto\n"
      ]
     },
     "execution_count": 70,
     "metadata": {},
     "output_type": "execute_result"
    }
   ],
   "source": [
    "class Ponto(var x: Int = 0, var y: Int = 0)"
   ]
  },
  {
   "cell_type": "code",
   "execution_count": 75,
   "metadata": {},
   "outputs": [
    {
     "name": "stdout",
     "output_type": "stream",
     "text": [
      "p1 = (3, 4)\n",
      "p2 = (0, 0)\n",
      "p3 = (5, 0)\n"
     ]
    },
    {
     "data": {
      "text/plain": [
       "p1: Ponto = Ponto@733e9292\n",
       "p2: Ponto = Ponto@2e0f0e8\n",
       "p3: Ponto = Ponto@6ca0614c\n"
      ]
     },
     "execution_count": 75,
     "metadata": {},
     "output_type": "execute_result"
    }
   ],
   "source": [
    "var p1 = new Ponto(3, 4)\n",
    "var p2 = new Ponto()\n",
    "var p3 = new Ponto(5)\n",
    "\n",
    "println(s\"p1 = (${p1.x}, ${p1.y})\")\n",
    "println(s\"p2 = (${p2.x}, ${p2.y})\")\n",
    "println(s\"p3 = (${p3.x}, ${p3.y})\")"
   ]
  },
  {
   "cell_type": "markdown",
   "metadata": {},
   "source": [
    "### Traits"
   ]
  },
  {
   "cell_type": "markdown",
   "metadata": {},
   "source": [
    "Quase igual <em>Interface</em> no java, mas podem ter atributos e métodos concretos"
   ]
  },
  {
   "cell_type": "code",
   "execution_count": 90,
   "metadata": {},
   "outputs": [
    {
     "data": {
      "text/plain": [
       "defined trait Dog\n"
      ]
     },
     "execution_count": 90,
     "metadata": {},
     "output_type": "execute_result"
    }
   ],
   "source": [
    "trait Dog {\n",
    "    val latido = \"AU AU\"\n",
    "    def latir() = println(latido)\n",
    "}"
   ]
  },
  {
   "cell_type": "code",
   "execution_count": 92,
   "metadata": {},
   "outputs": [
    {
     "data": {
      "text/plain": [
       "defined class Labrador\n",
       "defined class Poodle\n"
      ]
     },
     "execution_count": 92,
     "metadata": {},
     "output_type": "execute_result"
    }
   ],
   "source": [
    "class Labrador extends Dog\n",
    "class Poodle extends Dog"
   ]
  },
  {
   "cell_type": "code",
   "execution_count": 97,
   "metadata": {},
   "outputs": [
    {
     "name": "stdout",
     "output_type": "stream",
     "text": [
      "labrador diz: \n",
      "AU AU\n",
      "poodle diz: \n",
      "AU AU\n"
     ]
    },
    {
     "data": {
      "text/plain": [
       "cachorro1: Labrador = Labrador@c0c74bc\n",
       "cachorro2: Poodle = Poodle@641c5511\n"
      ]
     },
     "execution_count": 97,
     "metadata": {},
     "output_type": "execute_result"
    }
   ],
   "source": [
    "val cachorro1 = new Labrador()\n",
    "val cachorro2 = new Poodle()\n",
    "\n",
    "println(\"labrador diz: \")\n",
    "cachorro1.latir()\n",
    "println(\"poodle diz: \")\n",
    "cachorro2.latir()"
   ]
  },
  {
   "cell_type": "markdown",
   "metadata": {},
   "source": [
    "### Operator Overloading"
   ]
  },
  {
   "cell_type": "markdown",
   "metadata": {},
   "source": [
    "Sobrecarga de operador"
   ]
  },
  {
   "cell_type": "code",
   "execution_count": 103,
   "metadata": {},
   "outputs": [
    {
     "data": {
      "text/plain": [
       "defined class Vector\n"
      ]
     },
     "execution_count": 103,
     "metadata": {},
     "output_type": "execute_result"
    }
   ],
   "source": [
    "class Vector(var x: Int = 0, var y: Int = 0) {\n",
    "    override def toString(): String = s\"($x, $y)\"\n",
    "}"
   ]
  },
  {
   "cell_type": "code",
   "execution_count": 102,
   "metadata": {},
   "outputs": [
    {
     "name": "stdout",
     "output_type": "stream",
     "text": [
      "v1: (2, 3)\n",
      "v2: (5, 6)\n"
     ]
    },
    {
     "data": {
      "text/plain": [
       "v1: Vector = (2, 3)\n",
       "v2: Vector = (5, 6)\n"
      ]
     },
     "execution_count": 102,
     "metadata": {},
     "output_type": "execute_result"
    }
   ],
   "source": [
    "var v1 = new Vector(2, 3)\n",
    "var v2 = new Vector(5, 6)\n",
    "\n",
    "println(s\"v1: $v1\")\n",
    "println(s\"v2: $v2\")"
   ]
  },
  {
   "cell_type": "code",
   "execution_count": 112,
   "metadata": {},
   "outputs": [
    {
     "data": {
      "text/plain": [
       "defined class Vector\n"
      ]
     },
     "execution_count": 112,
     "metadata": {},
     "output_type": "execute_result"
    }
   ],
   "source": [
    "class Vector(var x: Int = 0, var y: Int = 0) {\n",
    "    override def toString(): String = s\"($x, $y)\"\n",
    "    def add(v: Vector): Vector = new Vector(x + v.x, y + v.y)\n",
    "}"
   ]
  },
  {
   "cell_type": "code",
   "execution_count": 113,
   "metadata": {},
   "outputs": [
    {
     "name": "stdout",
     "output_type": "stream",
     "text": [
      "(7, 9)\n"
     ]
    },
    {
     "data": {
      "text/plain": [
       "v1: Vector = (2, 3)\n",
       "v2: Vector = (5, 6)\n"
      ]
     },
     "execution_count": 113,
     "metadata": {},
     "output_type": "execute_result"
    }
   ],
   "source": [
    "var v1 = new Vector(2, 3)\n",
    "var v2 = new Vector(5, 6)\n",
    "\n",
    "println(v1.add(v2))"
   ]
  },
  {
   "cell_type": "code",
   "execution_count": 114,
   "metadata": {},
   "outputs": [
    {
     "name": "stdout",
     "output_type": "stream",
     "text": [
      "(7, 9)\n"
     ]
    },
    {
     "data": {
      "text/plain": [
       "v1: Vector = (2, 3)\n",
       "v2: Vector = (5, 6)\n"
      ]
     },
     "execution_count": 114,
     "metadata": {},
     "output_type": "execute_result"
    }
   ],
   "source": [
    "var v1 = new Vector(2, 3)\n",
    "var v2 = new Vector(5, 6)\n",
    "\n",
    "println(v1 add v2)"
   ]
  },
  {
   "cell_type": "code",
   "execution_count": 115,
   "metadata": {},
   "outputs": [
    {
     "data": {
      "text/plain": [
       "defined class Vector\n"
      ]
     },
     "execution_count": 115,
     "metadata": {},
     "output_type": "execute_result"
    }
   ],
   "source": [
    "class Vector(var x: Int = 0, var y: Int = 0) {\n",
    "    override def toString(): String = s\"($x, $y)\"\n",
    "    def +(v: Vector): Vector = new Vector(x + v.x, y + v.y)\n",
    "}"
   ]
  },
  {
   "cell_type": "code",
   "execution_count": 116,
   "metadata": {},
   "outputs": [
    {
     "name": "stdout",
     "output_type": "stream",
     "text": [
      "(7, 9)\n"
     ]
    },
    {
     "data": {
      "text/plain": [
       "v1: Vector = (2, 3)\n",
       "v2: Vector = (5, 6)\n"
      ]
     },
     "execution_count": 116,
     "metadata": {},
     "output_type": "execute_result"
    }
   ],
   "source": [
    "var v1 = new Vector(2, 3)\n",
    "var v2 = new Vector(5, 6)\n",
    "\n",
    "println(v1 + v2)"
   ]
  },
  {
   "cell_type": "code",
   "execution_count": 123,
   "metadata": {},
   "outputs": [
    {
     "data": {
      "text/plain": [
       "defined class Vector\n"
      ]
     },
     "execution_count": 123,
     "metadata": {},
     "output_type": "execute_result"
    }
   ],
   "source": [
    "class Vector(var x: Int = 0, var y: Int = 0) {\n",
    "    override def toString(): String = s\"($x, $y)\"\n",
    "    def +(v: Vector): Vector = new Vector(x + v.x, y + v.y)\n",
    "    def -(v: Vector): Vector = new Vector(x - v.x, y - v.y)\n",
    "    def *(v: Vector): Vector = new Vector(x * v.x, y * v.y)\n",
    "    def /(v: Vector): Vector = new Vector(x / v.x, y / v.y)\n",
    "    def ?:%*~(v: Vector): Vector = new Vector(x + 2 * v.x, y - 2 * v.y)\n",
    "    def !/<(): Vector = new Vector(-100, -100)\n",
    "}"
   ]
  },
  {
   "cell_type": "code",
   "execution_count": 124,
   "metadata": {},
   "outputs": [
    {
     "name": "stdout",
     "output_type": "stream",
     "text": [
      "(7, 9)\n",
      "(-3, -3)\n",
      "(10, 18)\n",
      "(0, 0)\n",
      "(12, -9)\n",
      "(-100, -100)\n"
     ]
    },
    {
     "data": {
      "text/plain": [
       "warning: there was one feature warning; re-run with -feature for details\n",
       "v1: Vector = (2, 3)\n",
       "v2: Vector = (5, 6)\n"
      ]
     },
     "execution_count": 124,
     "metadata": {},
     "output_type": "execute_result"
    }
   ],
   "source": [
    "var v1 = new Vector(2, 3)\n",
    "var v2 = new Vector(5, 6)\n",
    "\n",
    "println(v1 + v2)\n",
    "println(v1 - v2)\n",
    "println(v1 * v2)\n",
    "println(v1 / v2)\n",
    "println(v1 ?:%*~ v2)\n",
    "println(v1 !/<)"
   ]
  },
  {
   "cell_type": "markdown",
   "metadata": {},
   "source": [
    "### Singleton"
   ]
  },
  {
   "cell_type": "markdown",
   "metadata": {},
   "source": [
    "Classe que só pode ser instanciada 1 vez"
   ]
  },
  {
   "cell_type": "code",
   "execution_count": 125,
   "metadata": {},
   "outputs": [
    {
     "data": {
      "text/plain": [
       "defined object Matematica\n"
      ]
     },
     "execution_count": 125,
     "metadata": {},
     "output_type": "execute_result"
    }
   ],
   "source": [
    "object Matematica {\n",
    "    def soma(n1: Int, n2: Int): Int = n1 + n2\n",
    "    def sub(n1: Int, n2: Int): Int = n1 - n2\n",
    "    def mult(n1: Int, n2: Int): Int = n1 * n2\n",
    "    def div(n1: Int, n2: Int): Int = n1 / n2\n",
    "}"
   ]
  },
  {
   "cell_type": "code",
   "execution_count": 126,
   "metadata": {},
   "outputs": [
    {
     "name": "stdout",
     "output_type": "stream",
     "text": [
      "5\n",
      "7\n",
      "45\n",
      "11\n"
     ]
    }
   ],
   "source": [
    "println(Matematica.soma(2, 3))\n",
    "println(Matematica.sub(9, 2))\n",
    "println(Matematica.mult(5, 9))\n",
    "println(Matematica.div(121, 11))"
   ]
  },
  {
   "cell_type": "markdown",
   "metadata": {},
   "source": [
    "# Funcional"
   ]
  },
  {
   "cell_type": "markdown",
   "metadata": {},
   "source": [
    "Funções devem ser curtas, cumprir somente 1 objetivo, ter parâmetros e retornos, e não ter efeitos colaterais (não mudar o valor de variáveis globais). <br>\n",
    "Diz-se que em programação puramente funcional não se pode nem ao menos declarar variáveis, apenas constantes"
   ]
  },
  {
   "cell_type": "markdown",
   "metadata": {},
   "source": [
    "### Recursão Tradicional"
   ]
  },
  {
   "cell_type": "code",
   "execution_count": 127,
   "metadata": {},
   "outputs": [
    {
     "data": {
      "text/plain": [
       "fatorial: (x: Int)Int\n"
      ]
     },
     "execution_count": 127,
     "metadata": {},
     "output_type": "execute_result"
    }
   ],
   "source": [
    "def fatorial(x: Int): Int = {\n",
    "    if (x <= 1) 1\n",
    "    else x * fatorial(x - 1)\n",
    "}"
   ]
  },
  {
   "cell_type": "code",
   "execution_count": 128,
   "metadata": {},
   "outputs": [
    {
     "name": "stdout",
     "output_type": "stream",
     "text": [
      "6\n",
      "24\n",
      "120\n",
      "3628800\n"
     ]
    }
   ],
   "source": [
    "println(fatorial(3))\n",
    "println(fatorial(4))\n",
    "println(fatorial(5))\n",
    "println(fatorial(10))"
   ]
  },
  {
   "cell_type": "markdown",
   "metadata": {},
   "source": [
    "### Tail Recursion"
   ]
  },
  {
   "cell_type": "markdown",
   "metadata": {},
   "source": [
    "Descarta o <em>stack</em> das iterações anteriores, economiza muuuuita memória <br>\n",
    "(demonstrar no quadro)"
   ]
  },
  {
   "cell_type": "code",
   "execution_count": 131,
   "metadata": {},
   "outputs": [
    {
     "data": {
      "text/plain": [
       "fatorial_tail: (x: Int, total: Int)Int\n"
      ]
     },
     "execution_count": 131,
     "metadata": {},
     "output_type": "execute_result"
    }
   ],
   "source": [
    "def fatorial_tail(x: Int, total: Int = 1): Int = {\n",
    "    if (x <= 1) total\n",
    "    else fatorial_tail(x - 1, total * x)\n",
    "}"
   ]
  },
  {
   "cell_type": "code",
   "execution_count": 132,
   "metadata": {},
   "outputs": [
    {
     "name": "stdout",
     "output_type": "stream",
     "text": [
      "6\n",
      "24\n",
      "120\n",
      "3628800\n"
     ]
    }
   ],
   "source": [
    "println(fatorial_tail(3))\n",
    "println(fatorial_tail(4))\n",
    "println(fatorial_tail(5))\n",
    "println(fatorial_tail(10))"
   ]
  },
  {
   "cell_type": "markdown",
   "metadata": {},
   "source": [
    "### Higher-order Functions"
   ]
  },
  {
   "cell_type": "markdown",
   "metadata": {},
   "source": [
    "Funções que recebem funções como parâmetro ou retornam funções"
   ]
  },
  {
   "cell_type": "code",
   "execution_count": 133,
   "metadata": {},
   "outputs": [
    {
     "data": {
      "text/plain": [
       "somar_intervalo: (start: Int, finish: Int, total: Int)Int\n"
      ]
     },
     "execution_count": 133,
     "metadata": {},
     "output_type": "execute_result"
    }
   ],
   "source": [
    "def somar_intervalo(start: Int, finish: Int, total: Int = 0): Int = {\n",
    "    if (start > finish) total\n",
    "    else somar_intervalo(start + 1, finish, total + start)\n",
    "}"
   ]
  },
  {
   "cell_type": "code",
   "execution_count": 149,
   "metadata": {},
   "outputs": [
    {
     "name": "stdout",
     "output_type": "stream",
     "text": [
      "3\n",
      "6\n",
      "10\n",
      "36\n"
     ]
    }
   ],
   "source": [
    "println(somar_intervalo(1, 2))\n",
    "println(somar_intervalo(1, 3))\n",
    "println(somar_intervalo(1, 4))\n",
    "println(somar_intervalo(1, 8))"
   ]
  },
  {
   "cell_type": "code",
   "execution_count": 136,
   "metadata": {},
   "outputs": [
    {
     "data": {
      "text/plain": [
       "somar_quadrados_dos_intervalos: (start: Int, finish: Int, total: Int)Int\n"
      ]
     },
     "execution_count": 136,
     "metadata": {},
     "output_type": "execute_result"
    }
   ],
   "source": [
    "def somar_quadrados_dos_intervalos(start: Int, finish: Int, total: Int = 0): Int = {\n",
    "    if (start > finish) total\n",
    "    else somar_quadrados_dos_intervalos(start + 1, finish, total + start*start)\n",
    "}"
   ]
  },
  {
   "cell_type": "code",
   "execution_count": 150,
   "metadata": {},
   "outputs": [
    {
     "name": "stdout",
     "output_type": "stream",
     "text": [
      "5\n",
      "14\n",
      "30\n",
      "204\n"
     ]
    }
   ],
   "source": [
    "println(somar_quadrados_dos_intervalos(1, 2))\n",
    "println(somar_quadrados_dos_intervalos(1, 3))\n",
    "println(somar_quadrados_dos_intervalos(1, 4))\n",
    "println(somar_quadrados_dos_intervalos(1, 8))"
   ]
  },
  {
   "cell_type": "code",
   "execution_count": 142,
   "metadata": {},
   "outputs": [
    {
     "data": {
      "text/plain": [
       "somar: (start: Int, finish: Int, f: Int => Int, total: Int)Int\n"
      ]
     },
     "execution_count": 142,
     "metadata": {},
     "output_type": "execute_result"
    }
   ],
   "source": [
    "def somar(start: Int, finish: Int, f: Int => Int, total: Int = 0): Int = {\n",
    "    if (start > finish) total\n",
    "    else somar(start + 1, finish, f, total + f(start))\n",
    "}"
   ]
  },
  {
   "cell_type": "code",
   "execution_count": 143,
   "metadata": {},
   "outputs": [
    {
     "data": {
      "text/plain": [
       "quadrado: (num: Int)Int\n",
       "somar_quadrados: (start: Int, finish: Int)Int\n"
      ]
     },
     "execution_count": 143,
     "metadata": {},
     "output_type": "execute_result"
    }
   ],
   "source": [
    "def quadrado(num: Int): Int = num * num\n",
    "def somar_quadrados(start: Int, finish: Int): Int = somar(start, finish, quadrado)"
   ]
  },
  {
   "cell_type": "code",
   "execution_count": 151,
   "metadata": {},
   "outputs": [
    {
     "name": "stdout",
     "output_type": "stream",
     "text": [
      "5\n",
      "14\n",
      "30\n",
      "204\n"
     ]
    }
   ],
   "source": [
    "println(somar_quadrados(1, 2))\n",
    "println(somar_quadrados(1, 3))\n",
    "println(somar_quadrados(1, 4))\n",
    "println(somar_quadrados(1, 8))"
   ]
  },
  {
   "cell_type": "markdown",
   "metadata": {},
   "source": [
    "### Anonymous Function"
   ]
  },
  {
   "cell_type": "markdown",
   "metadata": {},
   "source": [
    "Função que é definida somente no contexto, não tem nome"
   ]
  },
  {
   "cell_type": "code",
   "execution_count": 145,
   "metadata": {},
   "outputs": [
    {
     "data": {
      "text/plain": [
       "somar_cubo: (start: Int, finish: Int)Int\n"
      ]
     },
     "execution_count": 145,
     "metadata": {},
     "output_type": "execute_result"
    }
   ],
   "source": [
    "def somar_cubo(start:Int, finish:Int):Int = somar(start, finish, x => x * x * x)"
   ]
  },
  {
   "cell_type": "code",
   "execution_count": 152,
   "metadata": {},
   "outputs": [
    {
     "name": "stdout",
     "output_type": "stream",
     "text": [
      "9\n",
      "36\n",
      "100\n",
      "1296\n"
     ]
    }
   ],
   "source": [
    "println(somar_cubo(1, 2))\n",
    "println(somar_cubo(1, 3))\n",
    "println(somar_cubo(1, 4))\n",
    "println(somar_cubo(1, 8))"
   ]
  },
  {
   "cell_type": "markdown",
   "metadata": {},
   "source": [
    "somar_quarta, por exemplo"
   ]
  },
  {
   "cell_type": "code",
   "execution_count": 153,
   "metadata": {},
   "outputs": [
    {
     "name": "stdout",
     "output_type": "stream",
     "text": [
      "17\n",
      "98\n",
      "354\n",
      "8772\n"
     ]
    }
   ],
   "source": [
    "println(somar(1, 2, x => x * x * x * x))\n",
    "println(somar(1, 3, x => x * x * x * x))\n",
    "println(somar(1, 4, x => x * x * x * x))\n",
    "println(somar(1, 8, x => x * x * x * x))"
   ]
  },
  {
   "cell_type": "markdown",
   "metadata": {},
   "source": [
    "### Exemplos Com Listas"
   ]
  },
  {
   "cell_type": "markdown",
   "metadata": {},
   "source": [
    "<em>map</em> e <em>filter</em>"
   ]
  },
  {
   "cell_type": "code",
   "execution_count": 162,
   "metadata": {},
   "outputs": [
    {
     "data": {
      "text/plain": [
       "arr1: Array[Int] = Array(-3, -1, 0, 2, 3)\n",
       "arr2: Array[Int] = Array(-5, 2, 7, 10, 15)\n"
      ]
     },
     "execution_count": 162,
     "metadata": {},
     "output_type": "execute_result"
    }
   ],
   "source": [
    "var arr1 = Array(-3, -1, 0, 2, 3)\n",
    "var arr2 = Array(-5, 2, 7, 10, 15)"
   ]
  },
  {
   "cell_type": "markdown",
   "metadata": {},
   "source": [
    "#### Map"
   ]
  },
  {
   "cell_type": "markdown",
   "metadata": {},
   "source": [
    "Passa todos os valores de uma lista por uma função"
   ]
  },
  {
   "cell_type": "code",
   "execution_count": 163,
   "metadata": {},
   "outputs": [
    {
     "data": {
      "text/plain": [
       "res96: Array[Int] = Array(3, 1, 0, 2, 3)\n"
      ]
     },
     "execution_count": 163,
     "metadata": {},
     "output_type": "execute_result"
    }
   ],
   "source": [
    "arr1.map(Math.abs)"
   ]
  },
  {
   "cell_type": "markdown",
   "metadata": {},
   "source": [
    "Obs.: Como no paradigma funcional, funções não devem ter efeitos colaterais (elas recebem parâmetros e retornam um valor, mas não interferem em valores globais), a função <em>map</em> simplesmente retorna um novo `Array`, mas não muda seu conteúdo"
   ]
  },
  {
   "cell_type": "code",
   "execution_count": 164,
   "metadata": {},
   "outputs": [
    {
     "data": {
      "text/plain": [
       "res97: Array[Int] = Array(-3, -1, 0, 2, 3)\n"
      ]
     },
     "execution_count": 164,
     "metadata": {},
     "output_type": "execute_result"
    }
   ],
   "source": [
    "arr1"
   ]
  },
  {
   "cell_type": "code",
   "execution_count": 165,
   "metadata": {},
   "outputs": [
    {
     "data": {
      "text/plain": [
       "res98: Array[Int] = Array(-2, 5, 10, 13, 18)\n"
      ]
     },
     "execution_count": 165,
     "metadata": {},
     "output_type": "execute_result"
    }
   ],
   "source": [
    "arr2.map(x => x + 3)"
   ]
  },
  {
   "cell_type": "markdown",
   "metadata": {},
   "source": [
    "#### Filter"
   ]
  },
  {
   "cell_type": "markdown",
   "metadata": {},
   "source": [
    "Retorna um novo `Array` somente com os valores que passarem no filtro"
   ]
  },
  {
   "cell_type": "code",
   "execution_count": 166,
   "metadata": {},
   "outputs": [
    {
     "data": {
      "text/plain": [
       "res99: Array[Int] = Array(2, 3)\n"
      ]
     },
     "execution_count": 166,
     "metadata": {},
     "output_type": "execute_result"
    }
   ],
   "source": [
    "arr1.filter(x => x > 0)"
   ]
  },
  {
   "cell_type": "code",
   "execution_count": 167,
   "metadata": {},
   "outputs": [
    {
     "data": {
      "text/plain": [
       "res100: Array[Int] = Array(2, 10)\n"
      ]
     },
     "execution_count": 167,
     "metadata": {},
     "output_type": "execute_result"
    }
   ],
   "source": [
    "arr2.filter(x => x % 2 == 0)"
   ]
  },
  {
   "cell_type": "markdown",
   "metadata": {},
   "source": [
    "### Funções aninhadas"
   ]
  },
  {
   "cell_type": "markdown",
   "metadata": {},
   "source": [
    "Voltando à classe Vector, para fazer um exponencial de vetor"
   ]
  },
  {
   "cell_type": "code",
   "execution_count": 159,
   "metadata": {},
   "outputs": [
    {
     "data": {
      "text/plain": [
       "defined class Vector\n"
      ]
     },
     "execution_count": 159,
     "metadata": {},
     "output_type": "execute_result"
    }
   ],
   "source": [
    "class Vector(var x: Int = 0, var y: Int = 0) {\n",
    "    override def toString(): String = s\"($x, $y)\"\n",
    "    def +(v: Vector): Vector = new Vector(x + v.x, y + v.y)\n",
    "    def -(v: Vector): Vector = new Vector(x - v.x, y - v.y)\n",
    "    def *(v: Vector): Vector = new Vector(x * v.x, y * v.y)\n",
    "    def /(v: Vector): Vector = new Vector(x / v.x, y / v.y)\n",
    "    def ?:%*~(v: Vector): Vector = new Vector(x + 2 * v.x, y - 2 * v.y)\n",
    "    def !/<(): Vector = new Vector(-100, -100)\n",
    "    \n",
    "    def **(v: Vector): Vector = {\n",
    "        def exp(base: Int, e: Int, total: Int = 1): Int = {\n",
    "            if (e == 0) total\n",
    "            else exp(base, e - 1, total * base)\n",
    "        }\n",
    "        new Vector(exp(x, v.x), exp(y, v.y))\n",
    "    }\n",
    "}"
   ]
  },
  {
   "cell_type": "code",
   "execution_count": 160,
   "metadata": {},
   "outputs": [
    {
     "name": "stdout",
     "output_type": "stream",
     "text": [
      "(0, 0)\n",
      "(1, 1)\n",
      "(8, 81)\n"
     ]
    },
    {
     "data": {
      "text/plain": [
       "v1: Vector = (0, 0)\n",
       "v2: Vector = (2, 3)\n",
       "v3: Vector = (3, 4)\n"
      ]
     },
     "execution_count": 160,
     "metadata": {},
     "output_type": "execute_result"
    }
   ],
   "source": [
    "var v1 = new Vector()\n",
    "var v2 = new Vector(2, 3)\n",
    "var v3 = new Vector(3, 4)\n",
    "\n",
    "println(v1 ** v2)\n",
    "println(v2 ** v1)\n",
    "println(v2 ** v3)"
   ]
  },
  {
   "cell_type": "markdown",
   "metadata": {},
   "source": [
    "---"
   ]
  },
  {
   "cell_type": "markdown",
   "metadata": {},
   "source": [
    "# Apache Spark Examples"
   ]
  },
  {
   "cell_type": "code",
   "execution_count": 9,
   "metadata": {},
   "outputs": [
    {
     "data": {
      "text/plain": [
       "import org.apache.spark.{SparkConf, SparkContext}\n",
       "import org.apache.spark.mllib.linalg._\n",
       "import org.apache.spark.mllib.stat.Statistics\n",
       "import org.apache.spark.rdd.RDD\n",
       "import org.apache.spark.mllib.clustering.{KMeans, KMeansModel}\n",
       "import org.apache.spark.mllib.linalg.Vectors\n",
       "import org.apache.spark.mllib.linalg.Matrix\n",
       "import org.apache.spark.mllib.linalg.SingularValueDecomposition\n",
       "import org.apache.spark.mllib.linalg.Vector\n",
       "import org.apache.spark.mllib.linalg.Vectors\n",
       "import org.apache.spark.mllib.linalg.distributed.RowMatrix\n"
      ]
     },
     "execution_count": 9,
     "metadata": {},
     "output_type": "execute_result"
    }
   ],
   "source": [
    "import org.apache.spark.{SparkConf, SparkContext}\n",
    "import org.apache.spark.mllib.linalg._\n",
    "import org.apache.spark.mllib.stat.Statistics\n",
    "import org.apache.spark.rdd.RDD\n",
    "import org.apache.spark.mllib.clustering.{KMeans, KMeansModel}\n",
    "import org.apache.spark.mllib.linalg.Vectors\n",
    "import org.apache.spark.mllib.linalg.Matrix\n",
    "import org.apache.spark.mllib.linalg.SingularValueDecomposition\n",
    "import org.apache.spark.mllib.linalg.Vector\n",
    "import org.apache.spark.mllib.linalg.Vectors\n",
    "import org.apache.spark.mllib.linalg.distributed.RowMatrix"
   ]
  },
  {
   "cell_type": "markdown",
   "metadata": {},
   "source": [
    "## Estimando pi por simulação de Monte Carlo"
   ]
  },
  {
   "cell_type": "markdown",
   "metadata": {},
   "source": [
    "### Paralelizado pelo Apache Spark"
   ]
  },
  {
   "cell_type": "code",
   "execution_count": 178,
   "metadata": {},
   "outputs": [
    {
     "name": "stdout",
     "output_type": "stream",
     "text": [
      "Pi is roughly 3.14416\n",
      "Time: 0.20341801643371582 seconds.\n",
      "\n"
     ]
    },
    {
     "data": {
      "text/plain": [
       "NUM_SAMPLES: Int = 100000\n",
       "count: Long = 78604\n"
      ]
     },
     "execution_count": 178,
     "metadata": {},
     "output_type": "execute_result"
    }
   ],
   "source": [
    "%%time\n",
    "val NUM_SAMPLES = 100000\n",
    "\n",
    "val count = sc.parallelize(1 to NUM_SAMPLES).filter { _ =>\n",
    "  val x = math.random\n",
    "  val y = math.random\n",
    "  x*x + y*y < 1\n",
    "}.count()\n",
    "println(s\"Pi is roughly ${4.0 * count / NUM_SAMPLES}\")"
   ]
  },
  {
   "cell_type": "markdown",
   "metadata": {},
   "source": [
    "## Exemplo de busca de correlação"
   ]
  },
  {
   "cell_type": "markdown",
   "metadata": {},
   "source": [
    "Claramente há correlação entre os valores de `seriesX` e `seriesY`, porém como o último valor de `seriesY` (555) está bastante diferente, o valor final cai"
   ]
  },
  {
   "cell_type": "code",
   "execution_count": 4,
   "metadata": {},
   "outputs": [
    {
     "name": "stdout",
     "output_type": "stream",
     "text": [
      "Correlation is: 0.8500286768773001\n",
      "1.0                 0.978883465889473   0.9903895695275671  \n",
      "0.978883465889473   1.0                 0.9977483233986101  \n",
      "0.9903895695275671  0.9977483233986101  1.0                 \n"
     ]
    },
    {
     "data": {
      "text/plain": [
       "seriesX: org.apache.spark.rdd.RDD[Double] = ParallelCollectionRDD[27] at parallelize at <console>:37\n",
       "seriesY: org.apache.spark.rdd.RDD[Double] = ParallelCollectionRDD[28] at parallelize at <console>:39\n",
       "correlation: Double = 0.8500286768773001\n",
       "data: org.apache.spark.rdd.RDD[org.apache.spark.mllib.linalg.Vector] = ParallelCollectionRDD[33] at parallelize at <console>:44\n",
       "correlMatrix: org.apache.spark.mllib.linalg.Matrix =\n",
       "1.0                 0.978883465889473   0.9903895695275671\n",
       "0.978883465889473   1.0                 0.9977483233986101\n",
       "0.9903895695275671  0.9977483233986101  1.0\n"
      ]
     },
     "execution_count": 4,
     "metadata": {},
     "output_type": "execute_result"
    }
   ],
   "source": [
    "val seriesX: RDD[Double] = sc.parallelize(Array(1, 2, 3, 3, 5))  // a series\n",
    "// must have the same number of partitions and cardinality as seriesX\n",
    "val seriesY: RDD[Double] = sc.parallelize(Array(11, 22, 33, 33, 555))\n",
    "\n",
    "val correlation: Double = Statistics.corr(seriesX, seriesY)\n",
    "println(s\"Correlation is: $correlation\")\n",
    "\n",
    "val data: RDD[Vector] = sc.parallelize(\n",
    "  Seq(\n",
    "    Vectors.dense(1.0, 10.0, 100.0),\n",
    "    Vectors.dense(2.0, 20.0, 200.0),\n",
    "    Vectors.dense(5.0, 33.0, 366.0))\n",
    ")\n",
    "\n",
    "// calculate the correlation matrix\n",
    "val correlMatrix: Matrix = Statistics.corr(data)\n",
    "println(correlMatrix.toString)"
   ]
  },
  {
   "cell_type": "markdown",
   "metadata": {},
   "source": [
    "## K-Means Clustering"
   ]
  },
  {
   "cell_type": "markdown",
   "metadata": {},
   "source": [
    "https://en.wikipedia.org/wiki/K-means_clustering"
   ]
  },
  {
   "cell_type": "code",
   "execution_count": 7,
   "metadata": {},
   "outputs": [
    {
     "name": "stdout",
     "output_type": "stream",
     "text": [
      "Within Set Sum of Squared Errors = 0.11999999999994547\n"
     ]
    },
    {
     "data": {
      "text/plain": [
       "data: org.apache.spark.rdd.RDD[String] = data/mllib/kmeans_data.txt MapPartitionsRDD[37] at textFile at <console>:42\n",
       "parsedData: org.apache.spark.rdd.RDD[org.apache.spark.mllib.linalg.Vector] = MapPartitionsRDD[38] at map at <console>:43\n",
       "numClusters: Int = 2\n",
       "numIterations: Int = 20\n",
       "clusters: org.apache.spark.mllib.clustering.KMeansModel = org.apache.spark.mllib.clustering.KMeansModel@3aac0c56\n",
       "WSSSE: Double = 0.11999999999994547\n",
       "sameModel: org.apache.spark.mllib.clustering.KMeansModel = org.apache.spark.mllib.clustering.KMeansModel@17701690\n"
      ]
     },
     "execution_count": 7,
     "metadata": {},
     "output_type": "execute_result"
    }
   ],
   "source": [
    "// Load and parse the data\n",
    "val data = sc.textFile(\"data/mllib/kmeans_data.txt\")\n",
    "val parsedData = data.map(s => Vectors.dense(s.split(' ').map(_.toDouble))).cache()\n",
    "\n",
    "// Cluster the data into two classes using KMeans\n",
    "val numClusters = 2\n",
    "val numIterations = 20\n",
    "val clusters = KMeans.train(parsedData, numClusters, numIterations)\n",
    "\n",
    "// Evaluate clustering by computing Within Set Sum of Squared Errors\n",
    "val WSSSE = clusters.computeCost(parsedData)\n",
    "println(s\"Within Set Sum of Squared Errors = $WSSSE\")\n",
    "\n",
    "// Save and load model\n",
    "clusters.save(sc, \"target/org/apache/spark/KMeansExample/KMeansModel\")\n",
    "val sameModel = KMeansModel.load(sc, \"target/org/apache/spark/KMeansExample/KMeansModel\")"
   ]
  },
  {
   "cell_type": "markdown",
   "metadata": {},
   "source": [
    "## SVD - Singular Value Decomposition"
   ]
  },
  {
   "cell_type": "markdown",
   "metadata": {},
   "source": [
    "https://en.wikipedia.org/wiki/Singular_value_decomposition"
   ]
  },
  {
   "cell_type": "code",
   "execution_count": 10,
   "metadata": {},
   "outputs": [
    {
     "name": "stdout",
     "output_type": "stream",
     "text": [
      "2018-11-22 04:37:20 WARN  LAPACK:61 - Failed to load implementation from: com.github.fommil.netlib.NativeSystemLAPACK\n",
      "2018-11-22 04:37:20 WARN  LAPACK:61 - Failed to load implementation from: com.github.fommil.netlib.NativeRefLAPACK\n",
      "U factor is:\n",
      "[-0.38829130511665644,-0.9198099362554474,-0.056387441301709175,9.313225746154785E-9,0.0]\n",
      "[-0.5301719995198351,0.2730185511901228,-0.8027319114319463,0.0,0.0]\n",
      "[-0.7537556058139434,0.2817987790459642,0.5936682026454339,1.4901161193847656E-8,1.4901161193847656E-8]\n",
      "Singular values are: [13.029275535600473,5.368578733451684,2.5330498218813755,6.323166049206486E-8,2.0226934557075942E-8]\n",
      "V factor is:\n",
      "-0.31278534337232633   0.3116713569157832    ... (5 total)\n",
      "-0.029801450130953977  -0.17133211263608739  ...\n",
      "-0.12207248163673157   0.15256470925290191   ...\n",
      "-0.7184789931874109    -0.6809628499946365   ...\n",
      "-0.6084105917199364    0.6217072292290715    ...\n"
     ]
    },
    {
     "data": {
      "text/plain": [
       "data: Array[org.apache.spark.mllib.linalg.Vector] = Array((5,[1,3],[1.0,7.0]), [2.0,0.0,3.0,4.0,5.0], [4.0,0.0,0.0,6.0,7.0])\n",
       "rows: org.apache.spark.rdd.RDD[org.apache.spark.mllib.linalg.Vector] = ParallelCollectionRDD[79] at parallelize at <console>:59\n",
       "mat: org.apache.spark.mllib.linalg.distributed.RowMatrix = org.apache.spark.mllib.linalg.distributed.RowMatrix@660974d9\n",
       "svd: org.apache.spark.mllib.linalg.SingularValueDecomposition[org.apache.spark.mllib.linalg.distributed.RowMatrix,org.apache.spark.mllib.linalg.Matrix] =\n",
       "SingularValueDecomposition(org.apache.spark.mllib.linalg.distributed.RowMatrix@5ecdf23,[13.029275535600473,5.368578733451684,2.5330498218813755,6.323166049206486E-8,2.0226934557075942E-8],-0.31278534337232633   0.3116713569157832    ... (5 total)\n",
       "-0.029801450130953977  ..."
      ]
     },
     "execution_count": 10,
     "metadata": {},
     "output_type": "execute_result"
    }
   ],
   "source": [
    "val data = Array(\n",
    "  Vectors.sparse(5, Seq((1, 1.0), (3, 7.0))),\n",
    "  Vectors.dense(2.0, 0.0, 3.0, 4.0, 5.0),\n",
    "  Vectors.dense(4.0, 0.0, 0.0, 6.0, 7.0))\n",
    "\n",
    "val rows = sc.parallelize(data)\n",
    "\n",
    "val mat: RowMatrix = new RowMatrix(rows)\n",
    "\n",
    "// Compute the top 5 singular values and corresponding singular vectors.\n",
    "val svd: SingularValueDecomposition[RowMatrix, Matrix] = mat.computeSVD(5, computeU = true)\n",
    "val U: RowMatrix = svd.U  // The U factor is a RowMatrix.\n",
    "val s: Vector = svd.s     // The singular values are stored in a local dense vector.\n",
    "val V: Matrix = svd.V     // The V factor is a local dense matrix.\n",
    "\n",
    "val collect = U.rows.collect()\n",
    "println(\"U factor is:\")\n",
    "collect.foreach { vector => println(vector) }\n",
    "println(s\"Singular values are: $s\")\n",
    "println(s\"V factor is:\\n$V\")"
   ]
  }
 ],
 "metadata": {
  "kernelspec": {
   "display_name": "spylon-kernel",
   "language": "scala",
   "name": "spylon-kernel"
  },
  "language_info": {
   "codemirror_mode": "text/x-scala",
   "file_extension": ".scala",
   "help_links": [
    {
     "text": "MetaKernel Magics",
     "url": "https://github.com/calysto/metakernel/blob/master/metakernel/magics/README.md"
    }
   ],
   "mimetype": "text/x-scala",
   "name": "scala",
   "pygments_lexer": "scala",
   "version": "0.4.1"
  }
 },
 "nbformat": 4,
 "nbformat_minor": 2
}
